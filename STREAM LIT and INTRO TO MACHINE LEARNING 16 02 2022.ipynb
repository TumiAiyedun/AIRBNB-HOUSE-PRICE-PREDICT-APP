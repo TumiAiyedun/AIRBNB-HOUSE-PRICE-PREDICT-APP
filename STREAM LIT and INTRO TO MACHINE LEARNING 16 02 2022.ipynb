{
 "cells": [
  {
   "cell_type": "code",
   "execution_count": null,
   "metadata": {},
   "outputs": [],
   "source": [
    "!# pip install streamlit --user"
   ]
  },
  {
   "cell_type": "code",
   "execution_count": null,
   "metadata": {},
   "outputs": [],
   "source": [
    "import streamlit as st"
   ]
  },
  {
   "cell_type": "code",
   "execution_count": null,
   "metadata": {},
   "outputs": [],
   "source": [
    "%%writefile app.py\n",
    "\n",
    "import streamlit as st\n",
    "\n",
    "#to run your streamlit\n",
    "st.write('# Unique App')\n",
    "\n",
    "#To add a subheading\n",
    "st.markdown('## The Tumi App')\n",
    "\n",
    "#To enable people put in numbers\n",
    "st.sidebar.number_input('Choose a number', step=5, min_value=20,max_value=50)\n",
    "\n",
    "#To be able to input a number into an app more like a select box\n",
    "st.selectbox('Select your car type',['Manual', 'Automatic', 'Both'])\n",
    "\n",
    "#To add a side bar\n",
    "st.sidebar.select_slider('Pick your destiny',(34,56,89))\n"
   ]
  },
  {
   "cell_type": "code",
   "execution_count": null,
   "metadata": {},
   "outputs": [],
   "source": [
    "#To run your app on streamlit\n",
    "!streamlit run app.py"
   ]
  },
  {
   "cell_type": "code",
   "execution_count": null,
   "metadata": {},
   "outputs": [],
   "source": []
  },
  {
   "cell_type": "markdown",
   "metadata": {},
   "source": [
    "# WORKING WITH OUR MACHINE LEARNING APP"
   ]
  },
  {
   "cell_type": "code",
   "execution_count": 1,
   "metadata": {},
   "outputs": [
    {
     "name": "stdout",
     "output_type": "stream",
     "text": [
      "Overwriting firstapp.py\n"
     ]
    }
   ],
   "source": [
    "%%writefile firstapp.py\n",
    "\n",
    "import streamlit as st\n",
    "import pandas as pd\n",
    "import numpy as ny\n",
    "import pickle\n",
    "\n",
    "st.write(\"# AIRBNB HOUSE PRICE PREDICT APP\")\n",
    "\n",
    "model=pickle.load(open('model(rf).pkl','rb'))\n",
    "scaler=pickle.load(open('scaler.pkl','rb'))\n",
    "\n",
    "\n",
    "st.sidebar.header('User Input Parameters')\n",
    "  \n",
    "def user_input_Parameters():\n",
    "    Room_type=st.sidebar.selectbox('Room Type', ('Private room','Entire home/apt','Shared room'))\n",
    "    if Room_type=='Entire home/apt':\n",
    "        Entire=1\n",
    "        Private=0\n",
    "        Shared=0 \n",
    "        \n",
    "    if Room_type=='Private room':\n",
    "        Entire=0\n",
    "        Private=1\n",
    "        Shared=0 \n",
    "        \n",
    "    if Room_type=='Shared room':\n",
    "        Entire=0\n",
    "        Private=0\n",
    "        Shared=1 \n",
    "        \n",
    "    Region_hood=st.sidebar.selectbox('Region',('North_Region', 'North-East_Region', 'East_Region', 'West_Region'))    \n",
    "    if  Region_hood=='Central_Region':\n",
    "        Central=1\n",
    "        North=0\n",
    "        East=0\n",
    "        West=0\n",
    "        North_East=0\n",
    "        \n",
    "    if  Region_hood=='North_Region':\n",
    "        Central=0\n",
    "        North=1\n",
    "        East=0\n",
    "        West=0\n",
    "        North_East=0\n",
    "        \n",
    "    if  Region_hood=='East_Region':\n",
    "        Central=0\n",
    "        North=0\n",
    "        East=1\n",
    "        West=0\n",
    "        North_East=0\n",
    "        \n",
    "    if  Region_hood=='West_Region':\n",
    "        Central=0\n",
    "        North=0\n",
    "        East=0\n",
    "        West=1\n",
    "        North_East=0\n",
    "        \n",
    "    if  Region_hood=='North-East_Region':\n",
    "        Central=0\n",
    "        North=0\n",
    "        East=0\n",
    "        West=0\n",
    "        North_East=1\n",
    "        \n",
    "    \n",
    "    Host_id=st.number_input('What is the Host ID', step=1)\n",
    "    Host_list_count=st.number_input('Host listing count', step=1)\n",
    "    Longitude=st.number_input('Building longitudinal location', step=1)\n",
    "    Latitude=st.number_input('Building latitudinal location', step=1)  \n",
    "    minimum_nights=st.number_input('How many nights will you be staying for?')\n",
    "    availability=st.number_input('Number of Days Available', step=1)\n",
    "    last_rev_month=st.number_input('On which month was the last review?', max_value=12, min_value=1,step=1)\n",
    "    last_rev_year=st.number_input('On which year was the last review?', max_value=2022, min_value=2012,step=1) \n",
    "    last_rev_day=st.number_input('On which day was the last review?', max_value=31, min_value=1,step=1) \n",
    "    no_of_reviews_year=st.number_input('Total number of reviews', step=1)\n",
    "    reviews_per_month=st.number_input('How many reviews per month?', step=1)\n",
    "    \n",
    "    data={'host_id':Host_id,\n",
    "          'latitude':Latitude,\n",
    "          'longitude':Longitude,\n",
    "          'last_review_month':last_rev_month,\n",
    "          'last_review_year':last_rev_year,\n",
    "          'last_review_day': last_rev_day,\n",
    "          'minimum_nights':minimum_nights,\n",
    "          'number_of_reviews': no_of_reviews_year,\n",
    "          'calculated_host_listings_count': Host_list_count,\n",
    "          'availability_365':availability,\n",
    "          'room_type_Private_room':Private,\n",
    "          'room_type_Shared_room':Shared,\n",
    "          'reviews_per_month':reviews_per_month,\n",
    "          'neighbourhood_group_West Region':West,\n",
    "          'neighbourhood_group_North-East Region': North_East,\n",
    "          'neighbourhood_group_East Region':East,\n",
    "          'neighbourhood_group_North Region':North}\n",
    "         \n",
    "              \n",
    "    Parameters = pd.DataFrame(data, index=[0])\n",
    "    return Parameters\n",
    "              \n",
    "input_df = user_input_Parameters()\n",
    "input_df = scaler.transform(input_df)\n",
    "              \n",
    "if st.button('PREDICT'):\n",
    "    y_out=model.predict(input_df)\n",
    "    st.write(f' This room will cost you $',y_out[0])\n",
    "              \n",
    "        "
   ]
  },
  {
   "cell_type": "code",
   "execution_count": null,
   "metadata": {
    "scrolled": false
   },
   "outputs": [],
   "source": [
    "!streamlit run firstapp.py"
   ]
  },
  {
   "cell_type": "code",
   "execution_count": null,
   "metadata": {},
   "outputs": [],
   "source": [
    "#writing features by importance\n",
    "\n",
    "imp.sort"
   ]
  }
 ],
 "metadata": {
  "kernelspec": {
   "display_name": "Python 3",
   "language": "python",
   "name": "python3"
  },
  "language_info": {
   "codemirror_mode": {
    "name": "ipython",
    "version": 3
   },
   "file_extension": ".py",
   "mimetype": "text/x-python",
   "name": "python",
   "nbconvert_exporter": "python",
   "pygments_lexer": "ipython3",
   "version": "3.8.3"
  }
 },
 "nbformat": 4,
 "nbformat_minor": 4
}
